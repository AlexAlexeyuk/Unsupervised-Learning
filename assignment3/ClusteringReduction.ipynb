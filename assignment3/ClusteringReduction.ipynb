{
 "cells": [
  {
   "cell_type": "code",
   "execution_count": 2,
   "metadata": {
    "collapsed": false
   },
   "outputs": [
    {
     "name": "stdout",
     "output_type": "stream",
     "text": [
      "\n",
      "Goncharenko Nikolay \n",
      "CS 7641: Machine Learning\n",
      "\n",
      "Assignment #3\n",
      "Unsupervised Learning and \n",
      "Dimensionality Reduction\n",
      "\n"
     ]
    }
   ],
   "source": [
    "\"\"\"\n",
    "Goncharenko Nikolay \n",
    "CS 7641: Machine Learning\n",
    "\n",
    "Assignment #3\n",
    "Unsupervised Learning and \n",
    "Dimensionality Reduction\n",
    "\"\"\"\n",
    "from __future__ import division #division of integers\n",
    "print(__doc__)\n",
    "\n",
    "from time import time\n",
    "from scipy import stats\n",
    "from scipy.spatial.distance import cdist, pdist\n",
    "import numpy as np\n",
    "import pandas as pd\n",
    "import matplotlib.pyplot as plt\n",
    "from mpl_toolkits.mplot3d import Axes3D\n",
    "import os\n",
    "import csv\n",
    "import operator\n",
    "\n",
    "from sklearn import metrics\n",
    "from sklearn.metrics import accuracy_score\n",
    "from sklearn.metrics import confusion_matrix\n",
    "from sklearn.cluster import KMeans\n",
    "from sklearn.decomposition import PCA, FastICA, FactorAnalysis\n",
    "from sklearn.preprocessing import scale\n",
    "from sklearn.preprocessing import StandardScaler\n",
    "from sklearn.manifold import MDS\n",
    "from sklearn.manifold import TSNE\n",
    "from sklearn import random_projection\n",
    "from itertools import cycle\n",
    "from sklearn.metrics import roc_auc_score\n",
    "from sklearn import mixture\n",
    "from matplotlib.colors import LogNorm\n",
    "from sklearn.neural_network import MLPClassifier\n",
    "from sklearn.model_selection import cross_val_score, StratifiedShuffleSplit\n",
    "from sklearn import cross_validation\n",
    "from sklearn.svm import SVC\n",
    "from sklearn.random_projection import johnson_lindenstrauss_min_dim\n",
    "from sklearn.learning_curve import learning_curve"
   ]
  },
  {
   "cell_type": "code",
   "execution_count": null,
   "metadata": {
    "collapsed": true
   },
   "outputs": [],
   "source": []
  }
 ],
 "metadata": {
  "anaconda-cloud": {},
  "kernelspec": {
   "display_name": "Python [py27]",
   "language": "python",
   "name": "Python [py27]"
  },
  "language_info": {
   "codemirror_mode": {
    "name": "ipython",
    "version": 2
   },
   "file_extension": ".py",
   "mimetype": "text/x-python",
   "name": "python",
   "nbconvert_exporter": "python",
   "pygments_lexer": "ipython2",
   "version": "2.7.12"
  }
 },
 "nbformat": 4,
 "nbformat_minor": 0
}
