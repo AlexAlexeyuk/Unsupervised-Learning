{
 "cells": [
  {
   "cell_type": "code",
   "execution_count": 23,
   "metadata": {
    "collapsed": false
   },
   "outputs": [],
   "source": [
    "from functions import *"
   ]
  },
  {
   "cell_type": "code",
   "execution_count": 24,
   "metadata": {
    "collapsed": false
   },
   "outputs": [
    {
     "name": "stdout",
     "output_type": "stream",
     "text": [
      "Credit Dataset:\n",
      "labels: 2, \t samples: 30000, \t features: 23\n",
      "\n",
      "Wine Dataset:\n",
      "labels: 7, \t samples: 4898, \t features: 11\n",
      "\n"
     ]
    }
   ],
   "source": [
    "np.random.seed(42)\n",
    "silhouette_sample = 15000\n",
    "ann_folder = get_path(\"../analysis_ANN/\")\n",
    "km_folder = get_path(\"../analysis_KM/\")\n",
    "gmm_folder = get_path(\"../analysis_EM/\")\n",
    "output_file = \"{0}.csv\"\n",
    "data_folder = get_path(\"../../datasets/weka/\")\n",
    "\n",
    "# Read-in Datasets\n",
    "try:\n",
    "    credit_df = pd.read_csv(get_path(\"../datasets/credit_full.csv\"))\n",
    "    credit_df_train = pd.read_csv(get_path(\"../datasets/credit_train.csv\"))\n",
    "    wine_df = pd.read_csv(get_path(\"../datasets/wine_full.csv\"))\n",
    "    wine_df_train = pd.read_csv(get_path(\"../datasets/wine_train.csv\"))\n",
    "except:\n",
    "    print(\"Error reading datasets\")\n",
    "\n",
    "credit_X, credit_Y = get_xy(credit_df)\n",
    "credit_X_train, credit_Y_train = get_xy(credit_df_train)\n",
    "wine_X, wine_Y = get_xy(wine_df)\n",
    "wine_X_train, wine_Y_train = get_xy(wine_df_train)\n",
    "\n",
    "# number of labels\n",
    "credit_labels_num = len(np.unique(credit_Y))\n",
    "wine_labels_num = len(np.unique(wine_Y))\n",
    "\n",
    "#Data Statistics\n",
    "print_statistics(credit_X, credit_Y, \"Credit Dataset\")\n",
    "print_statistics(wine_X, wine_Y, \"Wine Dataset\")"
   ]
  },
  {
   "cell_type": "code",
   "execution_count": null,
   "metadata": {
    "collapsed": true
   },
   "outputs": [],
   "source": []
  }
 ],
 "metadata": {
  "anaconda-cloud": {},
  "kernelspec": {
   "display_name": "Python [py27]",
   "language": "python",
   "name": "Python [py27]"
  },
  "language_info": {
   "codemirror_mode": {
    "name": "ipython",
    "version": 2
   },
   "file_extension": ".py",
   "mimetype": "text/x-python",
   "name": "python",
   "nbconvert_exporter": "python",
   "pygments_lexer": "ipython2",
   "version": "2.7.12"
  }
 },
 "nbformat": 4,
 "nbformat_minor": 0
}
